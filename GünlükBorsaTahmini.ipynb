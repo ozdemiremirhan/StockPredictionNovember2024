{
  "nbformat": 4,
  "nbformat_minor": 0,
  "metadata": {
    "colab": {
      "provenance": []
    },
    "kernelspec": {
      "name": "python3",
      "display_name": "Python 3"
    },
    "language_info": {
      "name": "python"
    }
  },
  "cells": [
    {
      "cell_type": "code",
      "execution_count": null,
      "metadata": {
        "id": "tSj4iAhvxS-B"
      },
      "outputs": [],
      "source": [
        "!pip install yfinance\n",
        "!pip install tensorflow\n",
        "!pip install scikit-learn"
      ]
    },
    {
      "cell_type": "code",
      "source": [
        "import yfinance as yf\n",
        "import pandas as pd\n",
        "import numpy as np\n",
        "from sklearn.preprocessing import MinMaxScaler\n",
        "from tensorflow.keras.models import Sequential\n",
        "from tensorflow.keras.layers import LSTM, Dense\n",
        "from sklearn.model_selection import train_test_split\n",
        "\n",
        "# Tüpraş verisini indir\n",
        "symbol = \"TUPRS.IS\"\n",
        "start_date = \"2020-11-27\"\n",
        "end_date = \"2024-11-27\"\n",
        "data = yf.download(symbol, start=start_date, end=end_date)\n",
        "\n",
        "# Veriyi sadece 'Close' (Kapanış Fiyatı) kullanarak model için hazırlayalım\n",
        "data = data[['Close']]\n",
        "\n",
        "# Min-Max scaling\n",
        "scaler = MinMaxScaler(feature_range=(0, 1))\n",
        "scaled_data = scaler.fit_transform(data)\n",
        "\n",
        "# Veri setini eğitim ve test için bölelim\n",
        "def create_dataset(data, time_step=60):\n",
        "    X, y = [], []\n",
        "    for i in range(time_step, len(data)):\n",
        "        X.append(data[i-time_step:i, 0])  # X için son 60 günü al\n",
        "        y.append(data[i, 0])  # y için o günün kapanış fiyatını al\n",
        "    return np.array(X), np.array(y)\n",
        "\n",
        "time_step = 60  # Son 60 günü baz alarak tahmin yapacağız\n",
        "X, y = create_dataset(scaled_data)\n",
        "\n",
        "# Eğitim ve test verilerini ayıralım\n",
        "X_train, X_test, y_train, y_test = train_test_split(X, y, test_size=0.2, shuffle=False)\n",
        "\n",
        "# Veriyi LSTM modeline uygun şekilde şekillendirelim\n",
        "X_train = X_train.reshape(X_train.shape[0], X_train.shape[1], 1)\n",
        "X_test = X_test.reshape(X_test.shape[0], X_test.shape[1], 1)\n",
        "\n",
        "# LSTM modelini oluştur\n",
        "model = Sequential()\n",
        "model.add(LSTM(units=50, return_sequences=True, input_shape=(X_train.shape[1], 1)))\n",
        "model.add(LSTM(units=50, return_sequences=False))\n",
        "model.add(Dense(units=1))  # Sonuçta tek bir tahmin yapacağız\n",
        "\n",
        "model.compile(optimizer='adam', loss='mean_squared_error')\n",
        "\n",
        "# Modeli eğit\n",
        "model.fit(X_train, y_train, epochs=10, batch_size=32)"
      ],
      "metadata": {
        "colab": {
          "base_uri": "https://localhost:8080/"
        },
        "id": "QAfQSvFKxgOk",
        "outputId": "fc9e0612-102a-4bba-e1af-3fbeec128b66"
      },
      "execution_count": 16,
      "outputs": [
        {
          "output_type": "stream",
          "name": "stderr",
          "text": [
            "\r[*********************100%***********************]  1 of 1 completed"
          ]
        },
        {
          "output_type": "stream",
          "name": "stdout",
          "text": [
            "Epoch 1/10\n"
          ]
        },
        {
          "output_type": "stream",
          "name": "stderr",
          "text": [
            "\n",
            "/usr/local/lib/python3.10/dist-packages/keras/src/layers/rnn/rnn.py:204: UserWarning: Do not pass an `input_shape`/`input_dim` argument to a layer. When using Sequential models, prefer using an `Input(shape)` object as the first layer in the model instead.\n",
            "  super().__init__(**kwargs)\n"
          ]
        },
        {
          "output_type": "stream",
          "name": "stdout",
          "text": [
            "\u001b[1m24/24\u001b[0m \u001b[32m━━━━━━━━━━━━━━━━━━━━\u001b[0m\u001b[37m\u001b[0m \u001b[1m4s\u001b[0m 57ms/step - loss: 0.0707\n",
            "Epoch 2/10\n",
            "\u001b[1m24/24\u001b[0m \u001b[32m━━━━━━━━━━━━━━━━━━━━\u001b[0m\u001b[37m\u001b[0m \u001b[1m1s\u001b[0m 54ms/step - loss: 0.0025\n",
            "Epoch 3/10\n",
            "\u001b[1m24/24\u001b[0m \u001b[32m━━━━━━━━━━━━━━━━━━━━\u001b[0m\u001b[37m\u001b[0m \u001b[1m1s\u001b[0m 56ms/step - loss: 0.0010\n",
            "Epoch 4/10\n",
            "\u001b[1m24/24\u001b[0m \u001b[32m━━━━━━━━━━━━━━━━━━━━\u001b[0m\u001b[37m\u001b[0m \u001b[1m1s\u001b[0m 58ms/step - loss: 6.5146e-04\n",
            "Epoch 5/10\n",
            "\u001b[1m24/24\u001b[0m \u001b[32m━━━━━━━━━━━━━━━━━━━━\u001b[0m\u001b[37m\u001b[0m \u001b[1m3s\u001b[0m 83ms/step - loss: 7.2027e-04\n",
            "Epoch 6/10\n",
            "\u001b[1m24/24\u001b[0m \u001b[32m━━━━━━━━━━━━━━━━━━━━\u001b[0m\u001b[37m\u001b[0m \u001b[1m1s\u001b[0m 55ms/step - loss: 6.7187e-04\n",
            "Epoch 7/10\n",
            "\u001b[1m24/24\u001b[0m \u001b[32m━━━━━━━━━━━━━━━━━━━━\u001b[0m\u001b[37m\u001b[0m \u001b[1m1s\u001b[0m 55ms/step - loss: 6.3417e-04\n",
            "Epoch 8/10\n",
            "\u001b[1m24/24\u001b[0m \u001b[32m━━━━━━━━━━━━━━━━━━━━\u001b[0m\u001b[37m\u001b[0m \u001b[1m3s\u001b[0m 54ms/step - loss: 6.9580e-04\n",
            "Epoch 9/10\n",
            "\u001b[1m24/24\u001b[0m \u001b[32m━━━━━━━━━━━━━━━━━━━━\u001b[0m\u001b[37m\u001b[0m \u001b[1m1s\u001b[0m 54ms/step - loss: 8.1689e-04\n",
            "Epoch 10/10\n",
            "\u001b[1m24/24\u001b[0m \u001b[32m━━━━━━━━━━━━━━━━━━━━\u001b[0m\u001b[37m\u001b[0m \u001b[1m1s\u001b[0m 57ms/step - loss: 7.2296e-04\n"
          ]
        },
        {
          "output_type": "execute_result",
          "data": {
            "text/plain": [
              "<keras.src.callbacks.history.History at 0x7c43a0de6770>"
            ]
          },
          "metadata": {},
          "execution_count": 16
        }
      ]
    },
    {
      "cell_type": "code",
      "source": [
        "# Test verisinin başlangıç tarihini daha geriye çek\n",
        "test_start_date = \"2024-09-01\"  # Yeterli veri olması için daha erken tarih\n",
        "test_end_date = \"2024-11-27\"   # Güncel tarih\n",
        "\n",
        "# Veriyi indir\n",
        "test_data = yf.download(symbol, start=test_start_date, end=test_end_date)\n",
        "test_data = test_data[['Close']]\n",
        "\n",
        "# Test verisini ölçekle\n",
        "scaled_test_data = scaler.transform(test_data)\n",
        "\n",
        "# X_test_new oluştur\n",
        "X_test_new = []\n",
        "for i in range(time_step, len(scaled_test_data)):\n",
        "    X_test_new.append(scaled_test_data[i-time_step:i, 0])\n",
        "\n",
        "X_test_new = np.array(X_test_new)\n",
        "\n",
        "# Veriyi reshape yap\n",
        "if X_test_new.shape[0] > 0:\n",
        "    X_test_new = X_test_new.reshape(X_test_new.shape[0], X_test_new.shape[1], 1)\n",
        "    predictions = model.predict(X_test_new)\n",
        "    predictions = scaler.inverse_transform(predictions)\n",
        "    print(\"Tahminler:\", predictions)\n",
        "else:\n",
        "    print(\"Test verisi oluşturulamadı.\")"
      ],
      "metadata": {
        "colab": {
          "base_uri": "https://localhost:8080/"
        },
        "id": "hHZrNLtKzGaU",
        "outputId": "887a5fba-4e58-4af4-8bc4-b5031bbff860"
      },
      "execution_count": 19,
      "outputs": [
        {
          "output_type": "stream",
          "name": "stderr",
          "text": [
            "\r[*********************100%***********************]  1 of 1 completed"
          ]
        },
        {
          "output_type": "stream",
          "name": "stdout",
          "text": [
            "\u001b[1m1/1\u001b[0m \u001b[32m━━━━━━━━━━━━━━━━━━━━\u001b[0m\u001b[37m\u001b[0m \u001b[1m0s\u001b[0m 44ms/step\n",
            "Tahminler: [[150.94804]]\n"
          ]
        },
        {
          "output_type": "stream",
          "name": "stderr",
          "text": [
            "\n"
          ]
        }
      ]
    },
    {
      "cell_type": "code",
      "source": [
        "# Son haftalık veriler üzerinde test yap ve karar ver\n",
        "predictions = []\n",
        "decisions = []\n",
        "\n",
        "for i in range(time_step, len(scaled_test_data)):\n",
        "    # time_step kadar geçmiş veriyi al\n",
        "    X_test_single = scaled_test_data[i-time_step:i, 0]\n",
        "    X_test_single = X_test_single.reshape(1, time_step, 1)\n",
        "\n",
        "    # Tahmin yap\n",
        "    predicted_price = model.predict(X_test_single)\n",
        "    predicted_price = scaler.inverse_transform(predicted_price)\n",
        "\n",
        "    # Gerçek fiyatı al\n",
        "    actual_price = scaler.inverse_transform(scaled_test_data[i:i+1])[0, 0]\n",
        "\n",
        "    # Karar ver\n",
        "    if predicted_price > actual_price:\n",
        "        decision = \"BUY\"\n",
        "    elif predicted_price < actual_price:\n",
        "        decision = \"SELL\"\n",
        "    else:\n",
        "        decision = \"HOLD\"\n",
        "\n",
        "    # Sonuçları kaydet\n",
        "    predictions.append(predicted_price[0, 0])\n",
        "    decisions.append(decision)\n",
        "\n",
        "# Tahmin sonuçlarını ve kararları DataFrame'e ekle\n",
        "result = pd.DataFrame({\n",
        "    'Actual': scaler.inverse_transform(scaled_test_data[time_step:]).flatten(),\n",
        "    'Predicted': predictions,\n",
        "    'Decision': decisions\n",
        "})\n",
        "\n",
        "# Sonuçları göster\n",
        "print(result)"
      ],
      "metadata": {
        "colab": {
          "base_uri": "https://localhost:8080/"
        },
        "id": "_F3ibiZIzJTf",
        "outputId": "bf31a96c-b6bd-47db-ea23-a38344bf7e6c"
      },
      "execution_count": 20,
      "outputs": [
        {
          "output_type": "stream",
          "name": "stdout",
          "text": [
            "\u001b[1m1/1\u001b[0m \u001b[32m━━━━━━━━━━━━━━━━━━━━\u001b[0m\u001b[37m\u001b[0m \u001b[1m0s\u001b[0m 28ms/step\n",
            "       Actual   Predicted Decision\n",
            "0  147.699997  150.948044      BUY\n"
          ]
        }
      ]
    }
  ]
}